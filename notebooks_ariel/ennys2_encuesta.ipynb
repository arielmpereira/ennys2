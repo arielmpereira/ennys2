{
 "cells": [
  {
   "cell_type": "markdown",
   "id": "4c089150",
   "metadata": {},
   "source": [
    "# Encuesta Nacional de Nutrición y Salud (ENNyS2)\n",
    "\n",
    "## Introducción\n",
    "\n",
    "La Segunda Encuesta Nacional de Nutrición y Salud (ENNyS 2) fue realizada en Argentina entre octubre de 2018 y febrero de 2019 por el Ministerio de Salud.\n",
    "\n",
    "Su objetivo es describir la situación alimentaria y de salud de la población, recolectando información sobre:\n",
    "\n",
    "* Consumo de alimentos y bebidas (recordatorio de 24 horas, frecuencia y tipo de alimentos).\n",
    "\n",
    "* Estado nutricional (mediciones antropométricas y composición corporal).\n",
    "\n",
    "* Enfermedades crónicas y factores de riesgo (hipertensión, diabetes, colesterol alto, etc.).\n",
    "\n",
    "* Condiciones sociodemográficas y del hogar (cobertura de salud, nivel educativo, ingresos, etc.).\n",
    "\n",
    "* Hábitos de vida (actividad física, lactancia, consumo de tabaco y alcohol, etc.).\n",
    "\n",
    "El diseño muestral es probabilístico, estratificado y multietápico, lo que asegura representatividad nacional y por regiones.\n",
    "\n",
    "***\n",
    "\n",
    "## Cuestionarios por grupo etario\n",
    "\n",
    "* **C1:** Niños/as de 0 a 23 meses.\n",
    "\n",
    "* **C2:** Niños/as de 2 a 12 años.\n",
    "\n",
    "* **C3:** Adolescentes de 13 a 17 años.\n",
    "\n",
    "* **C4:** Adultos de 18 años o más.\n",
    "\n",
    "***\n",
    "\n",
    "## Estructura de la base de la ENNyS2\n",
    "\n",
    "La base principal tiene ~1830 columnas, organizadas en módulos y prefijos que identifican tipo de dato, población objetivo y, en algunos casos, la posición del miembro del hogar.\n",
    "\n",
    "### Convenciones de nombres\n",
    "\n",
    "* **C1\\_ / C2\\_ / C3\\_ / C4\\_**: variables de cuestionarios específicos según grupo etario.\n",
    "\n",
    "* **T\\_Cn\\_**\\*: totales o derivados de un módulo.\n",
    "\n",
    "* **Mn\\_**\\*: información de miembros del hogar (hasta 15 posibles). Ejemplo: M01\\_Edad, M02\\_Sexo, M02\\_Parentesco.\n",
    "\n",
    "* **SD\\_ / T\\_SD\\_**: sociodemográfico y derivados.\n",
    "\n",
    "* **FCA\\_**: frecuencia de consumo de alimentos.\n",
    "\n",
    "* **HAC\\_**: hábitos y conductas.\n",
    "\n",
    "* **F\\_**: factores de ponderación.\n",
    "\n",
    "* **EE\\_**: estados/estudios.\n",
    "\n",
    "***\n",
    "\n",
    "## Campos estructurales\n",
    "\n",
    "Los campos clave para entender la jerarquía de la encuesta y vincular niveles (persona, hogar, vivienda, región) son:\n",
    "\n",
    "* **id**\\\n",
    "  Identificador único de cada persona en la base (cada fila = una persona). Nunca se repite.\n",
    "\n",
    "* **miembro\\_id**\\\n",
    "  Identificador global de persona usado para vincular con otras bases (alimentos, nutrientes, antropometría).\\\n",
    "  Puede contener valores no numéricos en casos especiales (“No aplica”, “Si/No”), porque en la encuesta se usaron también como códigos de carga.\n",
    "\n",
    "* **hogar\\_id**\\\n",
    "  Agrupa a las personas que pertenecen al mismo hogar. Se repite en varias filas.\\\n",
    "  Ejemplo: hogar\\_id = 38966 agrupa a 6 personas diferentes.\n",
    "\n",
    "* **vivienda\\_id**\\\n",
    "  Identifica la vivienda física. Puede contener uno o varios hogares.\\\n",
    "  Ejemplo: vivienda\\_id = 820 incluye dos hogares distintos (hogar\\_id 37529 y 94093).\n",
    "\n",
    "* **region**\\\n",
    "  Área geográfica de la encuesta (Centro, NOA, Cuyo, Patagonia, etc.).\\\n",
    "  Algunos registros aparecen codificados con números en lugar de nombres.\n",
    "\n",
    "* **ES\\_Seleccionado**\\\n",
    "  Indica si la persona fue sorteada para responder el cuestionario individual completo (C1–C4).\\\n",
    "  Solo esos casos tienen datos de salud, antropometría y recordatorio de 24h.\\\n",
    "  Puede contener valores “Si”, “No”, “No aplica”, etc.\n",
    "\n",
    "* **E\\_CUEST**\\\n",
    "  Especifica cuál cuestionario se aplicó según edad (C1–C4).\n",
    "\n",
    "***\n",
    "\n",
    "## Columnas MXX\\_\n",
    "\n",
    "El bloque de columnas `M01_... M15_...` corresponde al **listado de convivientes (roster)** que el encuestador registró al inicio del cuestionario sociodemográfico. Allí se incluyen datos básicos (edad, sexo, parentesco, educación, etc.) de todos los miembros del hogar.\n",
    "\n",
    "**Detalle importante:**\n",
    "\n",
    "* En la base publicada, **ese bloque MX\\_ está replicado en todas las filas del hogar**.\n",
    "\n",
    "* Es decir: cada persona del hogar tiene su propio `id` (una fila) y además lleva consigo el mismo listado MX\\_ completo.\n",
    "\n",
    "* Por lo tanto, los MX\\_ son útiles para reconstruir cómo fue la entrevista, pero redundan si ya trabajamos con las personas fila por fila.\n",
    "\n",
    "***\n",
    "\n",
    "## Cómo se realiza la encuesta\n",
    "\n",
    "1. **Formulario sociodemográfico:**\n",
    "\n",
    "   * Se registran todos los convivientes (edad, sexo, parentesco, educación, etc.) y condiciones de la vivienda.\n",
    "\n",
    "   * Esta información queda en las columnas MX\\_ y variables SD\\_.\n",
    "\n",
    "2. **Sorteo del individuo:**\n",
    "\n",
    "   * Se elige aleatoriamente a un miembro del hogar.\n",
    "\n",
    "   * Según la edad, responde el cuestionario C1–C4.\n",
    "\n",
    "3. **Cuestionario individual (seleccionado):**\n",
    "\n",
    "   * Solo el seleccionado tiene información completa: estado de salud, antecedentes, antropometría, recordatorio de 24h, etc.\n",
    "\n",
    "4. **Resto de convivientes:**\n",
    "\n",
    "   * También aparecen como filas con su `id`, pero solo con datos básicos sociodemográficos.\n",
    "\n",
    "   * Sus módulos C1–C4 están vacíos.\n",
    "\n",
    "***\n",
    "\n",
    "## Procedimiento para el análisis\n",
    "\n",
    "1. Separar el bloque MX\\_ en una base aparte (opcional, porque ya está replicado en cada fila).\n",
    "\n",
    "2. Filtrar a los seleccionados (`ES_Seleccionado = \"Si\"`) para análisis con cuestionarios completos.\n",
    "\n",
    "3. Dividir en grupos etarios (C1–C4).\n",
    "\n",
    "4. Analizar variables de interés (socioeconómicas, consumo, estado nutricional).\n",
    "\n",
    "***\n",
    "\n",
    "## 1. Creamos una base sin la columnas MX_ y una base con las columnas MX_"
   ]
  },
  {
   "cell_type": "code",
   "execution_count": 1,
   "id": "dce259c7",
   "metadata": {},
   "outputs": [
    {
     "name": "stdout",
     "output_type": "stream",
     "text": [
      "Base original: (21358, 1830)\n",
      "Columnas M00_..M15_ detectadas: 510\n",
      "ENNyS2_sin_M: (21358, 1320)\n",
      "ENNyS2_solo_M: (21358, 511)\n"
     ]
    }
   ],
   "source": [
    "from pathlib import Path\n",
    "import pandas as pd\n",
    "import numpy as np\n",
    "import re\n",
    "\n",
    "pd.set_option(\"display.max_rows\", None)\n",
    "pd.set_option(\"display.max_columns\", None)\n",
    "pd.set_option(\"display.width\", None)\n",
    "pd.set_option(\"display.max_colwidth\", None)\n",
    "\n",
    "# Cargar base de la encuesta\n",
    "DATA = Path(\"../data\")  # tu carpeta de datos\n",
    "FILE = DATA / \"ENNyS2_encuesta.csv\"\n",
    "\n",
    "df = pd.read_csv(FILE, encoding=\"utf-8-sig\", low_memory=False)\n",
    "print(\"Base original:\", df.shape)\n",
    "\n",
    "\n",
    "# Identificadores que se deben conservar en ambas tablas\n",
    "id_cols = [\"id\"]\n",
    "\n",
    "# Selección exacta de columnas de miembros: M00_ .. M15_\n",
    "pat = re.compile(r\"^M(0[0-9]|1[0-5])_\")\n",
    "m_cols = [c for c in df.columns if pat.match(c)]\n",
    "\n",
    "print(\"Columnas M00_..M15_ detectadas:\", len(m_cols))\n",
    "\n",
    "# Base sin columnas\n",
    "df_sin_m = df.drop(columns=m_cols, errors=\"ignore\").copy()\n",
    "\n",
    "# Base solo con columnas Mxx + IDs \n",
    "df_solo_m = df[id_cols + m_cols].copy()\n",
    "\n",
    "print(\"ENNyS2_sin_M:\", df_sin_m.shape)\n",
    "print(\"ENNyS2_solo_M:\", df_solo_m.shape)"
   ]
  },
  {
   "cell_type": "markdown",
   "id": "5f7ff56a",
   "metadata": {},
   "source": [
    "## Verificacion de la duplicacion de datos en los campos MX_"
   ]
  },
  {
   "cell_type": "code",
   "execution_count": 7,
   "id": "f4dfe341",
   "metadata": {},
   "outputs": [
    {
     "name": "stdout",
     "output_type": "stream",
     "text": [
      "             id ES_Seleccionado M01_miembro_id M01_caso_id  \\\n",
      "522    81315828              Si         119128    81315828   \n",
      "523    81315830              Si         119128    81315828   \n",
      "11790  81315831              Si         119128    81315828   \n",
      "11791  81315832  No aplica edad         119128    81315828   \n",
      "11792  81315833  No aplica edad         119128    81315828   \n",
      "\n",
      "                                M01_clave  M01_sd_caso_id   M01_SD_3  \\\n",
      "522    234/30/124/1/1/6/1248/13/47/111/11        81315828  Masculino   \n",
      "523    234/30/124/1/1/6/1248/13/47/111/11        81315828  Masculino   \n",
      "11790  234/30/124/1/1/6/1248/13/47/111/11        81315828  Masculino   \n",
      "11791  234/30/124/1/1/6/1248/13/47/111/11        81315828  Masculino   \n",
      "11792  234/30/124/1/1/6/1248/13/47/111/11        81315828  Masculino   \n",
      "\n",
      "       M01_SD_4 M01_SD_5 M01_SD_6 M01_SD_10 M01_SD_11  \n",
      "522          47            Jefe/a        No            \n",
      "523          47            Jefe/a        No            \n",
      "11790        47            Jefe/a        No            \n",
      "11791        47            Jefe/a        No            \n",
      "11792        47            Jefe/a        No            \n",
      "¿Todas las filas de hogar 38966 / vivienda 276 tienen los mismos MX_?: True\n"
     ]
    }
   ],
   "source": [
    "# --- Verificar duplicación de MX_ dentro de un mismo hogar/vivienda ---\n",
    "\n",
    "# 1) elegí un hogar_id de ejemplo (de los que compartiste antes)\n",
    "hogar_ej = 38966   # podés cambiar por 37529, 94093, etc.\n",
    "vivienda_ej = 276  # o 820, etc.\n",
    "\n",
    "# 2) subset de las filas de ese hogar/vivienda\n",
    "subset = df[(df[\"hogar_id\"] == hogar_ej) & (df[\"vivienda_id\"] == vivienda_ej)]\n",
    "\n",
    "# 3) seleccionar algunas columnas MX_ para chequear\n",
    "mx_cols = [c for c in df.columns if c.startswith(\"M\") and c[1:3].isdigit()]\n",
    "sample_cols = mx_cols[:10]  # tomar solo las primeras 10 para mostrar\n",
    "\n",
    "# 4) mostrar tabla reducida\n",
    "print(subset[[\"id\", \"ES_Seleccionado\"] + sample_cols].head())\n",
    "\n",
    "# 5) verificar si todas las filas del hogar tienen exactamente el mismo bloque MX_\n",
    "igual = subset[sample_cols].nunique().max() == 1\n",
    "print(f\"¿Todas las filas de hogar {hogar_ej} / vivienda {vivienda_ej} tienen los mismos MX_?: {igual}\")\n",
    "\n"
   ]
  },
  {
   "cell_type": "markdown",
   "id": "2b3d8f00",
   "metadata": {},
   "source": [
    "\n",
    "## 3. Separamos las 4 subbases (C1 a C4) en df_sin_m"
   ]
  },
  {
   "cell_type": "code",
   "execution_count": 3,
   "id": "bae06140",
   "metadata": {},
   "outputs": [
    {
     "name": "stdout",
     "output_type": "stream",
     "text": [
      "Seleccionados: 5506\n",
      "0 a 23 meses: 2013\n",
      "2 a 12 años: 216\n",
      "13 a 17 años: 401\n",
      "18 años y más: 2876\n"
     ]
    }
   ],
   "source": [
    "df_sel = df_sin_m[df_sin_m[\"ES_Seleccionado\"]==\"Si\"]\n",
    "\n",
    "c1 = df_sel[df_sel[\"E_CUEST\"]==\"0 a 23 meses\"]\n",
    "c2 = df_sel[df_sel[\"E_CUEST\"]==\"2 a 12 años\"]\n",
    "c3 = df_sel[df_sel[\"E_CUEST\"]==\"13 a 17 años\"]\n",
    "c4 = df_sel[df_sel[\"E_CUEST\"]==\"18 o mas años\"]\n",
    "\n",
    "print(\"Seleccionados:\", df_sel.shape[0])\n",
    "print(\"0 a 23 meses:\", c1.shape[0])\n",
    "print(\"2 a 12 años:\", c2.shape[0])\n",
    "print(\"13 a 17 años:\", c3.shape[0])\n",
    "print(\"18 años y más:\", c4.shape[0])"
   ]
  },
  {
   "cell_type": "markdown",
   "id": "a34155cd",
   "metadata": {},
   "source": [
    "## 4. Guardamos los resultados"
   ]
  },
  {
   "cell_type": "code",
   "execution_count": 4,
   "id": "d97a43d1",
   "metadata": {},
   "outputs": [],
   "source": [
    "# --- Guardar ---\n",
    "OUT = DATA / \"processed\"\n",
    "OUT.mkdir(parents=True, exist_ok=True)\n",
    "df_sin_m.to_csv(OUT / \"ENNyS2_sin_M.csv\", index=False)\n",
    "df_solo_m.to_csv(OUT / \"ENNyS2_solo_M.csv\", index=False)\n",
    "c1.to_csv(OUT / \"ENNyS2_c1.csv\", index=False)\n",
    "c2.to_csv(OUT / \"ENNyS2_c2.csv\", index=False)\n",
    "c3.to_csv(OUT / \"ENNyS2_c3.csv\", index=False)\n",
    "c4.to_csv(OUT / \"ENNyS2_c4.csv\", index=False)\n"
   ]
  },
  {
   "cell_type": "markdown",
   "id": "55b78d9c",
   "metadata": {},
   "source": [
    "---\n",
    "\n",
    "## 3. Cargamos base de alimentos"
   ]
  },
  {
   "cell_type": "code",
   "execution_count": 5,
   "id": "44e81dac",
   "metadata": {},
   "outputs": [
    {
     "data": {
      "text/plain": [
       "(26028, 1114)"
      ]
     },
     "execution_count": 5,
     "metadata": {},
     "output_type": "execute_result"
    }
   ],
   "source": [
    "FILE = DATA / \"Base_Alimentos_Bebidas_Suplementos.csv\"\n",
    "\n",
    "alimentos = pd.read_csv(FILE, encoding=\"utf-8-sig\", low_memory=False) # Encoding para acentos\n",
    "\n",
    "alimentos.shape"
   ]
  }
 ],
 "metadata": {
  "kernelspec": {
   "display_name": "Python (vscode)",
   "language": "python",
   "name": "vscode"
  },
  "language_info": {
   "codemirror_mode": {
    "name": "ipython",
    "version": 3
   },
   "file_extension": ".py",
   "mimetype": "text/x-python",
   "name": "python",
   "nbconvert_exporter": "python",
   "pygments_lexer": "ipython3",
   "version": "3.11.2"
  }
 },
 "nbformat": 4,
 "nbformat_minor": 5
}

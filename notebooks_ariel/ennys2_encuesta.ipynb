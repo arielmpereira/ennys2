{
 "cells": [
  {
   "cell_type": "markdown",
   "id": "4c089150",
   "metadata": {},
   "source": [
    "# Encuesta Nacional de Nutrición y Salud (ENNyS2)\n",
    "\n",
    "## Introducción\n",
    "\n",
    "La Segunda Encuesta Nacional de Nutrición y Salud (ENNyS 2) es un relevamiento realizado en Argentina por la Secretaría de Gobierno de Salud de la Nación (hoy Ministerio de Salud) entre octubre de 2018 y febrero de 2019.\n",
    "\n",
    "Su objetivo principal es describir la situación alimentaria y de salud de la población, recolectando información detallada sobre:\n",
    "\n",
    "* Consumo de alimentos y bebidas (recordatorio de 24 horas, frecuencia y tipo de alimentos).\n",
    "\n",
    "* Estado nutricional (mediciones antropométricas y datos de composición corporal).\n",
    "\n",
    "* Enfermedades crónicas y factores de riesgo (hipertensión, diabetes, colesterol alto, etc.).\n",
    "\n",
    "* Condiciones sociodemográficas y del hogar (cobertura de salud, nivel educativo, ingresos, etc.).\n",
    "\n",
    "* Hábitos de vida (actividad física, lactancia, consumo de tabaco y alcohol, etc.).\n",
    "\n",
    "La encuesta utiliza un diseño probabilístico, estratificado y multietápico, lo que permite que los resultados sean representativos a nivel nacional y por regiones.\n",
    "\n",
    "### Se estructura en cuestionarios específicos por grupo etario:\n",
    "\n",
    "* C1: Niños/as menores de 5 años.\n",
    "\n",
    "* C2: Niños/as y adolescentes de 5 a 12 años.\n",
    "\n",
    "* C3: Adolescentes de 13 a 17 años.\n",
    "\n",
    "* C4: Adultos de 18 años o más.\n",
    "\n",
    "En este trabajo utilizaremos la base principal de publicada en el portal de datos abiertos del Ministerio de Salud, junto con las bases complementarias de alimentos y nutrientes, para realizar un análisis que vincule alimentación, estado de salud y factores asociados.\n",
    "\n",
    "## Objetivos de la notebook\n",
    "\n",
    "Explorar la base principal de la ENNyS2 (encuesta) para:\n",
    "- ubicar variables clave (edad, sexo, indicadores de salud, educación, región),\n",
    "- revisar cobertura de datos en adultos (≥18),\n",
    "- generar un subset mínimo limpio para notebooks posteriores.\n",
    "- Mostramos capacidades de la base sin plantear hipótesis temáticas.\n",
    "\n",
    "## Estructura de las columnas en ENNyS2\n",
    "\n",
    "La base principal de ENNyS2 contiene aproximadamente 1830 columnas.\n",
    "Estas variables se organizan en módulos y prefijos que indican el tipo de información, la población objetivo y, en algunos casos, la posición del miembro del hogar.\n",
    "\n",
    "### Convenciones de nombres:\n",
    "\n",
    "Cn_: Variables de cuestionarios específicos según grupo etario:\n",
    "\n",
    "C1_: Niños/as menores de 5 años (respondido por adulto responsable).\n",
    "\n",
    "C2_: Niños/as y adolescentes de 5 a 12 años.\n",
    "\n",
    "C3_: Adolescentes de 13 a 17 años.\n",
    "\n",
    "C4_: Adultos de 18 años o más.\n",
    "\n",
    "T_Cn_: Variables totales o derivadas de un módulo.\n",
    "Ejemplo: T_C4_ActFisTotal (total de minutos de actividad física en adultos).\n",
    "\n",
    "I_Dx_Cn_: Indicadores por día dentro del módulo.\n",
    "Ejemplo: I_D1_C4_Kcal (ingesta calórica del día 1 en adultos).\n",
    "\n",
    "Mn_: Información de miembros del hogar (hasta 15 posibles).\n",
    "Ejemplo: M1_Edad, M2_Sexo (edad y sexo del miembro 1 y 2).\n",
    "\n",
    "## Decisión de trabajo para este análisis\n",
    "\n",
    "En este proyecto nos vamos a centrar solo en la población adulta.\n",
    "\n",
    "### Esto implica:\n",
    "\n",
    "* Filtrar registros con Edadd >= 18.\n",
    "\n",
    "* Trabajar exclusivamente con columnas que pertenecen al módulo adulto (C4_), evitando así unificación entre módulos y reduciendo valores faltantes.\n",
    "\n",
    "* Esta estrategia simplifica el análisis y asegura que todas las variables provengan del mismo cuestionario, con comparabilidad directa.\n",
    "\n",
    "---\n",
    "\n",
    "## 1. Leer la base CSV"
   ]
  },
  {
   "cell_type": "code",
   "execution_count": 7,
   "id": "61bf9bee",
   "metadata": {},
   "outputs": [
    {
     "data": {
      "text/plain": [
       "(21358, 1830)"
      ]
     },
     "execution_count": 7,
     "metadata": {},
     "output_type": "execute_result"
    }
   ],
   "source": [
    "from pathlib import Path\n",
    "import pandas as pd\n",
    "import numpy as np\n",
    "import matplotlib.pyplot as plt\n",
    "\n",
    "DATA = Path(\"../data\") # Previamente hay que descargar los datos manualmente y descomprimirlos en este directorio\n",
    "FILE = DATA / \"ENNyS2_encuesta.csv\"\n",
    "\n",
    "df = pd.read_csv(FILE, encoding=\"utf-8-sig\", low_memory=False)\n",
    "\n",
    "df.shape"
   ]
  },
  {
   "cell_type": "markdown",
   "id": "7951241a",
   "metadata": {},
   "source": [
    "---\n",
    "\n",
    "## 2. Unificamos las columnas SEXO\n",
    "\n",
    "El sexo de la persona puede estar en cualquiera de las 4 columnas, según la encuenta que realizó."
   ]
  },
  {
   "cell_type": "code",
   "execution_count": 2,
   "id": "83b8f141",
   "metadata": {},
   "outputs": [
    {
     "name": "stdout",
     "output_type": "stream",
     "text": [
      "SEXO\n",
      "Mujer    11070\n",
      "Varón    10288\n",
      "Name: count, dtype: int64\n",
      "NA en SEXO (%): 0.0\n"
     ]
    }
   ],
   "source": [
    "# 1) elegimos las columnas que existan\n",
    "cols_sexo = [c for c in [\"C4_SEXO\",\"C3_SEXO\",\"C2_SEXO\",\"C1_SEXO\"] if c in df.columns]\n",
    "\n",
    "# 2) tomamos solo esas columnas y convertimos vacíos/espacios a NA\n",
    "tmp = df[cols_sexo].copy()\n",
    "tmp = tmp.replace(r\"^\\s*$\", pd.NA, regex=True)  # cualquier cadena vacía -> NA\n",
    "\n",
    "# 3) completamos por filas con el primer no-NA disponible (backfill horizontal)\n",
    "#    y nos quedamos con la primera columna resultante\n",
    "df[\"SEXO\"] = tmp.bfill(axis=1).iloc[:, 0]\n",
    "\n",
    "# 4) chequeo rápido\n",
    "print(df[\"SEXO\"].value_counts(dropna=False).head(10))\n",
    "print(\"NA en SEXO (%):\", df[\"SEXO\"].isna().mean()*100)"
   ]
  },
  {
   "cell_type": "markdown",
   "id": "388fc201",
   "metadata": {},
   "source": [
    "## 3. Mapeo de columnas"
   ]
  },
  {
   "cell_type": "code",
   "execution_count": null,
   "id": "a945132e",
   "metadata": {},
   "outputs": [
    {
     "data": {
      "text/plain": [
       "{'edad': 'Edadd',\n",
       " 'sexo': 'SEXO',\n",
       " 'imc': 'IMC',\n",
       " 'cobertura_salud': 'Cobertura_salud',\n",
       " 'quintil_ingresos': 'IngHog_UC_QUINT_imp',\n",
       " 'hta': None,\n",
       " 'diabetes': None,\n",
       " 'colesterol_alto': None}"
      ]
     },
     "execution_count": 3,
     "metadata": {},
     "output_type": "execute_result"
    }
   ],
   "source": [
    "cols_map = {\n",
    "    \"edad\": \"Edadd\",\n",
    "    \"sexo\": \"SEXO\",\n",
    "    \"imc\": \"IMC\",\n",
    "    \"cobertura_salud\": \"Cobertura_salud\",\n",
    "    \"quintil_ingresos\": \"IngHog_UC_QUINT_imp\",\n",
    "    \"hta\": None,  # pendiente de identificar\n",
    "    \"diabetes\": None,\n",
    "    \"colesterol_alto\": None\n",
    "}\n",
    "cols_map\n"
   ]
  },
  {
   "cell_type": "markdown",
   "id": "2c0103de",
   "metadata": {},
   "source": [
    "## 4. Filtrar adultos (≥18)"
   ]
  },
  {
   "cell_type": "code",
   "execution_count": 4,
   "id": "144d86fb",
   "metadata": {},
   "outputs": [
    {
     "data": {
      "text/plain": [
       "(13935, 1831)"
      ]
     },
     "execution_count": 4,
     "metadata": {},
     "output_type": "execute_result"
    }
   ],
   "source": [
    "df_ad = df[pd.to_numeric(df[cols_map[\"edad\"]], errors=\"coerce\") >= 18].copy()\n",
    "df_ad.shape\n"
   ]
  },
  {
   "cell_type": "markdown",
   "id": "0866e838",
   "metadata": {},
   "source": [
    "## 5. Cobertura de datos"
   ]
  },
  {
   "cell_type": "code",
   "execution_count": 5,
   "id": "1b83f732",
   "metadata": {},
   "outputs": [
    {
     "data": {
      "text/html": [
       "<div>\n",
       "<style scoped>\n",
       "    .dataframe tbody tr th:only-of-type {\n",
       "        vertical-align: middle;\n",
       "    }\n",
       "\n",
       "    .dataframe tbody tr th {\n",
       "        vertical-align: top;\n",
       "    }\n",
       "\n",
       "    .dataframe thead th {\n",
       "        text-align: right;\n",
       "    }\n",
       "</style>\n",
       "<table border=\"1\" class=\"dataframe\">\n",
       "  <thead>\n",
       "    <tr style=\"text-align: right;\">\n",
       "      <th></th>\n",
       "      <th>%NA</th>\n",
       "    </tr>\n",
       "  </thead>\n",
       "  <tbody>\n",
       "    <tr>\n",
       "      <th>Edadd</th>\n",
       "      <td>0.0</td>\n",
       "    </tr>\n",
       "    <tr>\n",
       "      <th>SEXO</th>\n",
       "      <td>0.0</td>\n",
       "    </tr>\n",
       "    <tr>\n",
       "      <th>IMC</th>\n",
       "      <td>0.6</td>\n",
       "    </tr>\n",
       "    <tr>\n",
       "      <th>Cobertura_salud</th>\n",
       "      <td>0.4</td>\n",
       "    </tr>\n",
       "    <tr>\n",
       "      <th>IngHog_UC_QUINT_imp</th>\n",
       "      <td>0.0</td>\n",
       "    </tr>\n",
       "  </tbody>\n",
       "</table>\n",
       "</div>"
      ],
      "text/plain": [
       "                     %NA\n",
       "Edadd                0.0\n",
       "SEXO                 0.0\n",
       "IMC                  0.6\n",
       "Cobertura_salud      0.4\n",
       "IngHog_UC_QUINT_imp  0.0"
      ]
     },
     "execution_count": 5,
     "metadata": {},
     "output_type": "execute_result"
    }
   ],
   "source": [
    "relevantes = [\"Edadd\", \"SEXO\", \"IMC\", \"Cobertura_salud\", \"IngHog_UC_QUINT_imp\"]\n",
    "\n",
    "df_chk = df_ad[relevantes].copy()\n",
    "df_chk = df_chk.replace([\"\", \" \", \"  \", \"NA\", \"NaN\", \"ns/nc\", \"NS/NC\"], pd.NA)\n",
    "\n",
    "na_pct = (df_chk.isna().mean()*100).round(1)\n",
    "na_pct.to_frame(\"%NA\")\n"
   ]
  },
  {
   "cell_type": "markdown",
   "id": "36d2b41c",
   "metadata": {},
   "source": [
    "## 5. Estadísticas descriptivas"
   ]
  },
  {
   "cell_type": "code",
   "execution_count": 6,
   "id": "3b9f63a6",
   "metadata": {},
   "outputs": [
    {
     "data": {
      "image/png": "[encoded data removed]",
      "text/plain": [
       "<Figure size 640x480 with 1 Axes>"
      ]
     },
     "metadata": {},
     "output_type": "display_data"
    },
    {
     "name": "stdout",
     "output_type": "stream",
     "text": [
      "SEXO\n",
      "Varón    7154\n",
      "Mujer    6781\n",
      "Name: count, dtype: int64\n"
     ]
    }
   ],
   "source": [
    "# Histograma IMC\n",
    "df_ad[cols_map[\"imc\"]] = pd.to_numeric(df_ad[cols_map[\"imc\"]], errors=\"coerce\")\n",
    "df_ad[cols_map[\"imc\"]].plot(kind=\"hist\", bins=40)\n",
    "plt.title(\"Distribución de IMC (adultos)\")\n",
    "plt.xlabel(\"IMC\")\n",
    "plt.ylabel(\"Frecuencia\")\n",
    "plt.show()\n",
    "\n",
    "# Distribución por sexo\n",
    "print(df_ad[cols_map[\"sexo\"]].value_counts(dropna=False))\n"
   ]
  }
 ],
 "metadata": {
  "kernelspec": {
   "display_name": "Python (vscode)",
   "language": "python",
   "name": "vscode"
  },
  "language_info": {
   "codemirror_mode": {
    "name": "ipython",
    "version": 3
   },
   "file_extension": ".py",
   "mimetype": "text/x-python",
   "name": "python",
   "nbconvert_exporter": "python",
   "pygments_lexer": "ipython3",
   "version": "3.11.2"
  }
 },
 "nbformat": 4,
 "nbformat_minor": 5
}
